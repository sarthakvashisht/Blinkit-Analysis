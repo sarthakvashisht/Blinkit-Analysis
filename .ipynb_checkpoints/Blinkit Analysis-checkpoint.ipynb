{
 "cells": [
  {
   "cell_type": "markdown",
   "id": "1c5db452",
   "metadata": {},
   "source": [
    "# BLINKIT DATA CLEANING"
   ]
  },
  {
   "cell_type": "code",
   "execution_count": 3,
   "id": "9a77187c",
   "metadata": {},
   "outputs": [],
   "source": [
    "import pandas as pd\n",
    "import numpy as np"
   ]
  },
  {
   "cell_type": "code",
   "execution_count": 4,
   "id": "3ccf0508",
   "metadata": {},
   "outputs": [],
   "source": [
    "df=pd.read_excel(\"Grocery.xlsx\")"
   ]
  },
  {
   "cell_type": "code",
   "execution_count": 5,
   "id": "328d99f0",
   "metadata": {},
   "outputs": [
    {
     "data": {
      "text/html": [
       "<div>\n",
       "<style scoped>\n",
       "    .dataframe tbody tr th:only-of-type {\n",
       "        vertical-align: middle;\n",
       "    }\n",
       "\n",
       "    .dataframe tbody tr th {\n",
       "        vertical-align: top;\n",
       "    }\n",
       "\n",
       "    .dataframe thead th {\n",
       "        text-align: right;\n",
       "    }\n",
       "</style>\n",
       "<table border=\"1\" class=\"dataframe\">\n",
       "  <thead>\n",
       "    <tr style=\"text-align: right;\">\n",
       "      <th></th>\n",
       "      <th>Item Fat Content</th>\n",
       "      <th>Item Identifier</th>\n",
       "      <th>Item Type</th>\n",
       "      <th>Outlet Establishment Year</th>\n",
       "      <th>Outlet Identifier</th>\n",
       "      <th>Outlet Location Type</th>\n",
       "      <th>Outlet Size</th>\n",
       "      <th>Outlet Type</th>\n",
       "      <th>Item Visibility</th>\n",
       "      <th>Item Weight</th>\n",
       "      <th>Sales</th>\n",
       "      <th>Rating</th>\n",
       "    </tr>\n",
       "  </thead>\n",
       "  <tbody>\n",
       "    <tr>\n",
       "      <th>5591</th>\n",
       "      <td>Regular</td>\n",
       "      <td>FDB36</td>\n",
       "      <td>Baking Goods</td>\n",
       "      <td>2016</td>\n",
       "      <td>OUT046</td>\n",
       "      <td>Tier 1</td>\n",
       "      <td>Small</td>\n",
       "      <td>Supermarket Type1</td>\n",
       "      <td>0.000000</td>\n",
       "      <td>5.465</td>\n",
       "      <td>129.1626</td>\n",
       "      <td>2.3</td>\n",
       "    </tr>\n",
       "    <tr>\n",
       "      <th>618</th>\n",
       "      <td>Low Fat</td>\n",
       "      <td>DRD12</td>\n",
       "      <td>Soft Drinks</td>\n",
       "      <td>2020</td>\n",
       "      <td>OUT017</td>\n",
       "      <td>Tier 2</td>\n",
       "      <td>High</td>\n",
       "      <td>Supermarket Type1</td>\n",
       "      <td>0.077630</td>\n",
       "      <td>6.960</td>\n",
       "      <td>90.9146</td>\n",
       "      <td>4.6</td>\n",
       "    </tr>\n",
       "    <tr>\n",
       "      <th>3845</th>\n",
       "      <td>Low Fat</td>\n",
       "      <td>FDZ10</td>\n",
       "      <td>Snack Foods</td>\n",
       "      <td>2018</td>\n",
       "      <td>OUT027</td>\n",
       "      <td>Tier 3</td>\n",
       "      <td>Medium</td>\n",
       "      <td>Supermarket Type3</td>\n",
       "      <td>0.044248</td>\n",
       "      <td>NaN</td>\n",
       "      <td>126.2020</td>\n",
       "      <td>3.9</td>\n",
       "    </tr>\n",
       "    <tr>\n",
       "      <th>995</th>\n",
       "      <td>Low Fat</td>\n",
       "      <td>DRL37</td>\n",
       "      <td>Soft Drinks</td>\n",
       "      <td>2012</td>\n",
       "      <td>OUT049</td>\n",
       "      <td>Tier 1</td>\n",
       "      <td>Medium</td>\n",
       "      <td>Supermarket Type1</td>\n",
       "      <td>0.053455</td>\n",
       "      <td>15.500</td>\n",
       "      <td>43.6770</td>\n",
       "      <td>4.4</td>\n",
       "    </tr>\n",
       "    <tr>\n",
       "      <th>7632</th>\n",
       "      <td>Low Fat</td>\n",
       "      <td>NCM29</td>\n",
       "      <td>Health and Hygiene</td>\n",
       "      <td>2011</td>\n",
       "      <td>OUT010</td>\n",
       "      <td>Tier 3</td>\n",
       "      <td>Medium</td>\n",
       "      <td>Grocery Store</td>\n",
       "      <td>0.029529</td>\n",
       "      <td>11.500</td>\n",
       "      <td>132.6626</td>\n",
       "      <td>4.0</td>\n",
       "    </tr>\n",
       "    <tr>\n",
       "      <th>5957</th>\n",
       "      <td>Low Fat</td>\n",
       "      <td>FDM40</td>\n",
       "      <td>Frozen Foods</td>\n",
       "      <td>2016</td>\n",
       "      <td>OUT046</td>\n",
       "      <td>Tier 1</td>\n",
       "      <td>Small</td>\n",
       "      <td>Supermarket Type1</td>\n",
       "      <td>0.159937</td>\n",
       "      <td>10.195</td>\n",
       "      <td>143.2154</td>\n",
       "      <td>4.0</td>\n",
       "    </tr>\n",
       "    <tr>\n",
       "      <th>3753</th>\n",
       "      <td>Regular</td>\n",
       "      <td>FDR44</td>\n",
       "      <td>Fruits and Vegetables</td>\n",
       "      <td>2022</td>\n",
       "      <td>OUT018</td>\n",
       "      <td>Tier 3</td>\n",
       "      <td>Medium</td>\n",
       "      <td>Supermarket Type2</td>\n",
       "      <td>0.103340</td>\n",
       "      <td>6.110</td>\n",
       "      <td>131.2968</td>\n",
       "      <td>4.0</td>\n",
       "    </tr>\n",
       "    <tr>\n",
       "      <th>4924</th>\n",
       "      <td>Low Fat</td>\n",
       "      <td>DRD27</td>\n",
       "      <td>Dairy</td>\n",
       "      <td>2012</td>\n",
       "      <td>OUT049</td>\n",
       "      <td>Tier 1</td>\n",
       "      <td>Medium</td>\n",
       "      <td>Supermarket Type1</td>\n",
       "      <td>0.023877</td>\n",
       "      <td>18.750</td>\n",
       "      <td>97.4042</td>\n",
       "      <td>3.4</td>\n",
       "    </tr>\n",
       "    <tr>\n",
       "      <th>7757</th>\n",
       "      <td>Low Fat</td>\n",
       "      <td>FDM13</td>\n",
       "      <td>Breakfast</td>\n",
       "      <td>2014</td>\n",
       "      <td>OUT013</td>\n",
       "      <td>Tier 3</td>\n",
       "      <td>High</td>\n",
       "      <td>Supermarket Type1</td>\n",
       "      <td>0.063123</td>\n",
       "      <td>6.425</td>\n",
       "      <td>131.3626</td>\n",
       "      <td>4.0</td>\n",
       "    </tr>\n",
       "    <tr>\n",
       "      <th>140</th>\n",
       "      <td>Regular</td>\n",
       "      <td>FDZ37</td>\n",
       "      <td>Canned</td>\n",
       "      <td>2016</td>\n",
       "      <td>OUT046</td>\n",
       "      <td>Tier 1</td>\n",
       "      <td>Small</td>\n",
       "      <td>Supermarket Type1</td>\n",
       "      <td>0.019769</td>\n",
       "      <td>8.100</td>\n",
       "      <td>88.6198</td>\n",
       "      <td>5.0</td>\n",
       "    </tr>\n",
       "    <tr>\n",
       "      <th>37</th>\n",
       "      <td>Regular</td>\n",
       "      <td>FDO45</td>\n",
       "      <td>Snack Foods</td>\n",
       "      <td>2015</td>\n",
       "      <td>OUT045</td>\n",
       "      <td>Tier 2</td>\n",
       "      <td>Medium</td>\n",
       "      <td>Supermarket Type1</td>\n",
       "      <td>0.038030</td>\n",
       "      <td>13.150</td>\n",
       "      <td>88.6856</td>\n",
       "      <td>5.0</td>\n",
       "    </tr>\n",
       "    <tr>\n",
       "      <th>235</th>\n",
       "      <td>Regular</td>\n",
       "      <td>FDU19</td>\n",
       "      <td>Fruits and Vegetables</td>\n",
       "      <td>2020</td>\n",
       "      <td>OUT017</td>\n",
       "      <td>Tier 2</td>\n",
       "      <td>Medium</td>\n",
       "      <td>Supermarket Type1</td>\n",
       "      <td>0.047036</td>\n",
       "      <td>8.770</td>\n",
       "      <td>170.5422</td>\n",
       "      <td>5.0</td>\n",
       "    </tr>\n",
       "    <tr>\n",
       "      <th>6510</th>\n",
       "      <td>Low Fat</td>\n",
       "      <td>DRH36</td>\n",
       "      <td>Soft Drinks</td>\n",
       "      <td>2018</td>\n",
       "      <td>OUT019</td>\n",
       "      <td>Tier 1</td>\n",
       "      <td>Small</td>\n",
       "      <td>Grocery Store</td>\n",
       "      <td>0.058444</td>\n",
       "      <td>NaN</td>\n",
       "      <td>73.0696</td>\n",
       "      <td>4.0</td>\n",
       "    </tr>\n",
       "    <tr>\n",
       "      <th>2838</th>\n",
       "      <td>Regular</td>\n",
       "      <td>FDW57</td>\n",
       "      <td>Snack Foods</td>\n",
       "      <td>2016</td>\n",
       "      <td>OUT046</td>\n",
       "      <td>Tier 1</td>\n",
       "      <td>Small</td>\n",
       "      <td>Supermarket Type1</td>\n",
       "      <td>0.000000</td>\n",
       "      <td>8.310</td>\n",
       "      <td>177.4028</td>\n",
       "      <td>4.1</td>\n",
       "    </tr>\n",
       "    <tr>\n",
       "      <th>3417</th>\n",
       "      <td>Regular</td>\n",
       "      <td>FDE23</td>\n",
       "      <td>Starchy Foods</td>\n",
       "      <td>2016</td>\n",
       "      <td>OUT046</td>\n",
       "      <td>Tier 1</td>\n",
       "      <td>Small</td>\n",
       "      <td>Supermarket Type1</td>\n",
       "      <td>0.000000</td>\n",
       "      <td>17.600</td>\n",
       "      <td>46.0060</td>\n",
       "      <td>4.0</td>\n",
       "    </tr>\n",
       "  </tbody>\n",
       "</table>\n",
       "</div>"
      ],
      "text/plain": [
       "     Item Fat Content Item Identifier              Item Type  \\\n",
       "5591          Regular           FDB36           Baking Goods   \n",
       "618           Low Fat           DRD12            Soft Drinks   \n",
       "3845          Low Fat           FDZ10            Snack Foods   \n",
       "995           Low Fat           DRL37            Soft Drinks   \n",
       "7632          Low Fat           NCM29     Health and Hygiene   \n",
       "5957          Low Fat           FDM40           Frozen Foods   \n",
       "3753          Regular           FDR44  Fruits and Vegetables   \n",
       "4924          Low Fat           DRD27                  Dairy   \n",
       "7757          Low Fat           FDM13              Breakfast   \n",
       "140           Regular           FDZ37                 Canned   \n",
       "37            Regular           FDO45            Snack Foods   \n",
       "235           Regular           FDU19  Fruits and Vegetables   \n",
       "6510          Low Fat           DRH36            Soft Drinks   \n",
       "2838          Regular           FDW57            Snack Foods   \n",
       "3417          Regular           FDE23          Starchy Foods   \n",
       "\n",
       "      Outlet Establishment Year Outlet Identifier Outlet Location Type  \\\n",
       "5591                       2016            OUT046               Tier 1   \n",
       "618                        2020            OUT017               Tier 2   \n",
       "3845                       2018            OUT027               Tier 3   \n",
       "995                        2012            OUT049               Tier 1   \n",
       "7632                       2011            OUT010               Tier 3   \n",
       "5957                       2016            OUT046               Tier 1   \n",
       "3753                       2022            OUT018               Tier 3   \n",
       "4924                       2012            OUT049               Tier 1   \n",
       "7757                       2014            OUT013               Tier 3   \n",
       "140                        2016            OUT046               Tier 1   \n",
       "37                         2015            OUT045               Tier 2   \n",
       "235                        2020            OUT017               Tier 2   \n",
       "6510                       2018            OUT019               Tier 1   \n",
       "2838                       2016            OUT046               Tier 1   \n",
       "3417                       2016            OUT046               Tier 1   \n",
       "\n",
       "     Outlet Size        Outlet Type  Item Visibility  Item Weight     Sales  \\\n",
       "5591       Small  Supermarket Type1         0.000000        5.465  129.1626   \n",
       "618         High  Supermarket Type1         0.077630        6.960   90.9146   \n",
       "3845      Medium  Supermarket Type3         0.044248          NaN  126.2020   \n",
       "995       Medium  Supermarket Type1         0.053455       15.500   43.6770   \n",
       "7632      Medium      Grocery Store         0.029529       11.500  132.6626   \n",
       "5957       Small  Supermarket Type1         0.159937       10.195  143.2154   \n",
       "3753      Medium  Supermarket Type2         0.103340        6.110  131.2968   \n",
       "4924      Medium  Supermarket Type1         0.023877       18.750   97.4042   \n",
       "7757        High  Supermarket Type1         0.063123        6.425  131.3626   \n",
       "140        Small  Supermarket Type1         0.019769        8.100   88.6198   \n",
       "37        Medium  Supermarket Type1         0.038030       13.150   88.6856   \n",
       "235       Medium  Supermarket Type1         0.047036        8.770  170.5422   \n",
       "6510       Small      Grocery Store         0.058444          NaN   73.0696   \n",
       "2838       Small  Supermarket Type1         0.000000        8.310  177.4028   \n",
       "3417       Small  Supermarket Type1         0.000000       17.600   46.0060   \n",
       "\n",
       "      Rating  \n",
       "5591     2.3  \n",
       "618      4.6  \n",
       "3845     3.9  \n",
       "995      4.4  \n",
       "7632     4.0  \n",
       "5957     4.0  \n",
       "3753     4.0  \n",
       "4924     3.4  \n",
       "7757     4.0  \n",
       "140      5.0  \n",
       "37       5.0  \n",
       "235      5.0  \n",
       "6510     4.0  \n",
       "2838     4.1  \n",
       "3417     4.0  "
      ]
     },
     "execution_count": 5,
     "metadata": {},
     "output_type": "execute_result"
    }
   ],
   "source": [
    "df.sample(15)"
   ]
  },
  {
   "cell_type": "code",
   "execution_count": 6,
   "id": "6f47c0bf",
   "metadata": {},
   "outputs": [
    {
     "data": {
      "text/plain": [
       "(8523, 12)"
      ]
     },
     "execution_count": 6,
     "metadata": {},
     "output_type": "execute_result"
    }
   ],
   "source": [
    "df.shape"
   ]
  },
  {
   "cell_type": "code",
   "execution_count": 7,
   "id": "c01807c7",
   "metadata": {},
   "outputs": [
    {
     "name": "stdout",
     "output_type": "stream",
     "text": [
      "<class 'pandas.core.frame.DataFrame'>\n",
      "RangeIndex: 8523 entries, 0 to 8522\n",
      "Data columns (total 12 columns):\n",
      " #   Column                     Non-Null Count  Dtype  \n",
      "---  ------                     --------------  -----  \n",
      " 0   Item Fat Content           8523 non-null   object \n",
      " 1   Item Identifier            8523 non-null   object \n",
      " 2   Item Type                  8523 non-null   object \n",
      " 3   Outlet Establishment Year  8523 non-null   int64  \n",
      " 4   Outlet Identifier          8523 non-null   object \n",
      " 5   Outlet Location Type       8523 non-null   object \n",
      " 6   Outlet Size                8523 non-null   object \n",
      " 7   Outlet Type                8523 non-null   object \n",
      " 8   Item Visibility            8523 non-null   float64\n",
      " 9   Item Weight                7060 non-null   float64\n",
      " 10  Sales                      8523 non-null   float64\n",
      " 11  Rating                     8523 non-null   float64\n",
      "dtypes: float64(4), int64(1), object(7)\n",
      "memory usage: 799.2+ KB\n"
     ]
    }
   ],
   "source": [
    "df.info()"
   ]
  },
  {
   "cell_type": "code",
   "execution_count": 8,
   "id": "a823598e",
   "metadata": {},
   "outputs": [
    {
     "data": {
      "text/html": [
       "<div>\n",
       "<style scoped>\n",
       "    .dataframe tbody tr th:only-of-type {\n",
       "        vertical-align: middle;\n",
       "    }\n",
       "\n",
       "    .dataframe tbody tr th {\n",
       "        vertical-align: top;\n",
       "    }\n",
       "\n",
       "    .dataframe thead th {\n",
       "        text-align: right;\n",
       "    }\n",
       "</style>\n",
       "<table border=\"1\" class=\"dataframe\">\n",
       "  <thead>\n",
       "    <tr style=\"text-align: right;\">\n",
       "      <th></th>\n",
       "      <th>Outlet Establishment Year</th>\n",
       "      <th>Item Visibility</th>\n",
       "      <th>Item Weight</th>\n",
       "      <th>Sales</th>\n",
       "      <th>Rating</th>\n",
       "    </tr>\n",
       "  </thead>\n",
       "  <tbody>\n",
       "    <tr>\n",
       "      <th>count</th>\n",
       "      <td>8523.000000</td>\n",
       "      <td>8523.000000</td>\n",
       "      <td>7060.000000</td>\n",
       "      <td>8523.000000</td>\n",
       "      <td>8523.000000</td>\n",
       "    </tr>\n",
       "    <tr>\n",
       "      <th>mean</th>\n",
       "      <td>2016.450546</td>\n",
       "      <td>0.066132</td>\n",
       "      <td>12.857645</td>\n",
       "      <td>140.992783</td>\n",
       "      <td>3.965857</td>\n",
       "    </tr>\n",
       "    <tr>\n",
       "      <th>std</th>\n",
       "      <td>3.189396</td>\n",
       "      <td>0.051598</td>\n",
       "      <td>4.643456</td>\n",
       "      <td>62.275067</td>\n",
       "      <td>0.605651</td>\n",
       "    </tr>\n",
       "    <tr>\n",
       "      <th>min</th>\n",
       "      <td>2011.000000</td>\n",
       "      <td>0.000000</td>\n",
       "      <td>4.555000</td>\n",
       "      <td>31.290000</td>\n",
       "      <td>1.000000</td>\n",
       "    </tr>\n",
       "    <tr>\n",
       "      <th>25%</th>\n",
       "      <td>2014.000000</td>\n",
       "      <td>0.026989</td>\n",
       "      <td>8.773750</td>\n",
       "      <td>93.826500</td>\n",
       "      <td>4.000000</td>\n",
       "    </tr>\n",
       "    <tr>\n",
       "      <th>50%</th>\n",
       "      <td>2016.000000</td>\n",
       "      <td>0.053931</td>\n",
       "      <td>12.600000</td>\n",
       "      <td>143.012800</td>\n",
       "      <td>4.000000</td>\n",
       "    </tr>\n",
       "    <tr>\n",
       "      <th>75%</th>\n",
       "      <td>2018.000000</td>\n",
       "      <td>0.094585</td>\n",
       "      <td>16.850000</td>\n",
       "      <td>185.643700</td>\n",
       "      <td>4.200000</td>\n",
       "    </tr>\n",
       "    <tr>\n",
       "      <th>max</th>\n",
       "      <td>2022.000000</td>\n",
       "      <td>0.328391</td>\n",
       "      <td>21.350000</td>\n",
       "      <td>266.888400</td>\n",
       "      <td>5.000000</td>\n",
       "    </tr>\n",
       "  </tbody>\n",
       "</table>\n",
       "</div>"
      ],
      "text/plain": [
       "       Outlet Establishment Year  Item Visibility  Item Weight        Sales  \\\n",
       "count                8523.000000      8523.000000  7060.000000  8523.000000   \n",
       "mean                 2016.450546         0.066132    12.857645   140.992783   \n",
       "std                     3.189396         0.051598     4.643456    62.275067   \n",
       "min                  2011.000000         0.000000     4.555000    31.290000   \n",
       "25%                  2014.000000         0.026989     8.773750    93.826500   \n",
       "50%                  2016.000000         0.053931    12.600000   143.012800   \n",
       "75%                  2018.000000         0.094585    16.850000   185.643700   \n",
       "max                  2022.000000         0.328391    21.350000   266.888400   \n",
       "\n",
       "            Rating  \n",
       "count  8523.000000  \n",
       "mean      3.965857  \n",
       "std       0.605651  \n",
       "min       1.000000  \n",
       "25%       4.000000  \n",
       "50%       4.000000  \n",
       "75%       4.200000  \n",
       "max       5.000000  "
      ]
     },
     "execution_count": 8,
     "metadata": {},
     "output_type": "execute_result"
    }
   ],
   "source": [
    "df.describe()"
   ]
  },
  {
   "cell_type": "code",
   "execution_count": 9,
   "id": "3aa2e952",
   "metadata": {},
   "outputs": [
    {
     "data": {
      "text/plain": [
       "Item Fat Content                0\n",
       "Item Identifier                 0\n",
       "Item Type                       0\n",
       "Outlet Establishment Year       0\n",
       "Outlet Identifier               0\n",
       "Outlet Location Type            0\n",
       "Outlet Size                     0\n",
       "Outlet Type                     0\n",
       "Item Visibility                 0\n",
       "Item Weight                  1463\n",
       "Sales                           0\n",
       "Rating                          0\n",
       "dtype: int64"
      ]
     },
     "execution_count": 9,
     "metadata": {},
     "output_type": "execute_result"
    }
   ],
   "source": [
    "df.isnull().sum()"
   ]
  },
  {
   "cell_type": "code",
   "execution_count": 56,
   "id": "8c4de466",
   "metadata": {},
   "outputs": [
    {
     "data": {
      "text/plain": [
       "array(['Regular', 'Low Fat'], dtype=object)"
      ]
     },
     "execution_count": 56,
     "metadata": {},
     "output_type": "execute_result"
    }
   ],
   "source": [
    "df['Item Fat Content'].unique()"
   ]
  },
  {
   "cell_type": "code",
   "execution_count": 11,
   "id": "0f2623c6",
   "metadata": {},
   "outputs": [],
   "source": [
    "df['Item Fat Content'] = df['Item Fat Content'].replace('low fat', 'Low Fat')"
   ]
  },
  {
   "cell_type": "code",
   "execution_count": 12,
   "id": "faac91d9",
   "metadata": {},
   "outputs": [
    {
     "data": {
      "text/plain": [
       "16"
      ]
     },
     "execution_count": 12,
     "metadata": {},
     "output_type": "execute_result"
    }
   ],
   "source": [
    "df['Item Type'].nunique()"
   ]
  },
  {
   "cell_type": "code",
   "execution_count": 13,
   "id": "a6c35783",
   "metadata": {},
   "outputs": [],
   "source": [
    "from sklearn.impute import SimpleImputer"
   ]
  },
  {
   "cell_type": "code",
   "execution_count": 14,
   "id": "816b2fb8",
   "metadata": {},
   "outputs": [],
   "source": [
    "SI=SimpleImputer(missing_values=np.nan,strategy='mean')"
   ]
  },
  {
   "cell_type": "code",
   "execution_count": 15,
   "id": "f1ae954f",
   "metadata": {},
   "outputs": [],
   "source": [
    "df['Item Weight']=SI.fit_transform(df[['Item Weight']])"
   ]
  },
  {
   "cell_type": "code",
   "execution_count": 16,
   "id": "b2d85b0f",
   "metadata": {},
   "outputs": [
    {
     "data": {
      "text/plain": [
       "Item Fat Content             0\n",
       "Item Identifier              0\n",
       "Item Type                    0\n",
       "Outlet Establishment Year    0\n",
       "Outlet Identifier            0\n",
       "Outlet Location Type         0\n",
       "Outlet Size                  0\n",
       "Outlet Type                  0\n",
       "Item Visibility              0\n",
       "Item Weight                  0\n",
       "Sales                        0\n",
       "Rating                       0\n",
       "dtype: int64"
      ]
     },
     "execution_count": 16,
     "metadata": {},
     "output_type": "execute_result"
    }
   ],
   "source": [
    "df.isnull().sum()"
   ]
  },
  {
   "cell_type": "code",
   "execution_count": 57,
   "id": "9bf6e28b",
   "metadata": {},
   "outputs": [
    {
     "data": {
      "text/plain": [
       "Outlet Establishment Year\n",
       "2011     555\n",
       "2012     930\n",
       "2014     932\n",
       "2015     929\n",
       "2016     930\n",
       "2017     930\n",
       "2018    1463\n",
       "2020     926\n",
       "2022     928\n",
       "dtype: int64"
      ]
     },
     "execution_count": 57,
     "metadata": {},
     "output_type": "execute_result"
    }
   ],
   "source": [
    "df['Outlet Establishment Year'].count()\n",
    "df.groupby('Outlet Establishment Year').size()"
   ]
  },
  {
   "cell_type": "code",
   "execution_count": 55,
   "id": "8f043fa5",
   "metadata": {},
   "outputs": [
    {
     "data": {
      "text/plain": [
       "Outlet Location Type\n",
       "Tier 1    2388\n",
       "Tier 2    2785\n",
       "Tier 3    3350\n",
       "dtype: int64"
      ]
     },
     "execution_count": 55,
     "metadata": {},
     "output_type": "execute_result"
    }
   ],
   "source": [
    "df['Outlet Location Type'].count()\n",
    "df.groupby('Outlet Location Type').size()"
   ]
  },
  {
   "cell_type": "markdown",
   "id": "e7b952d3",
   "metadata": {},
   "source": [
    "# Data Visualization"
   ]
  },
  {
   "cell_type": "code",
   "execution_count": 33,
   "id": "805fa933",
   "metadata": {},
   "outputs": [],
   "source": [
    "import seaborn as sns\n",
    "import matplotlib.pyplot as plt"
   ]
  },
  {
   "cell_type": "code",
   "execution_count": 34,
   "id": "22e4973f",
   "metadata": {},
   "outputs": [
    {
     "data": {
      "image/png": "[encoded data removed]",
      "text/plain": [
       "<Figure size 640x480 with 1 Axes>"
      ]
     },
     "metadata": {},
     "output_type": "display_data"
    }
   ],
   "source": [
    "#Analyze the Sales of different fat content.\n",
    "sns.barplot(x=df['Item Fat Content'],y=df['Sales'])\n",
    "plt.show()"
   ]
  },
  {
   "cell_type": "code",
   "execution_count": 50,
   "id": "3c298a75",
   "metadata": {},
   "outputs": [
    {
     "data": {
      "text/plain": [
       "Text(0, 0.5, 'Sales')"
      ]
     },
     "execution_count": 50,
     "metadata": {},
     "output_type": "execute_result"
    },
    {
     "data": {
      "image/png": "[encoded data removed]",
      "text/plain": [
       "<Figure size 640x480 with 1 Axes>"
      ]
     },
     "metadata": {},
     "output_type": "display_data"
    }
   ],
   "source": [
    "#outlet Location wise sale.\n",
    "sns.countplot(x=df['Outlet Location Type'])\n",
    "plt.xlabel('Type of Outlet Location')\n",
    "plt.ylabel('Sales')\n"
   ]
  },
  {
   "cell_type": "code",
   "execution_count": 62,
   "id": "3305f154",
   "metadata": {},
   "outputs": [
    {
     "ename": "KeyError",
     "evalue": "'Item_Type'",
     "output_type": "error",
     "traceback": [
      "\u001b[1;31m---------------------------------------------------------------------------\u001b[0m",
      "\u001b[1;31mKeyError\u001b[0m                                  Traceback (most recent call last)",
      "Cell \u001b[1;32mIn[62], line 10\u001b[0m\n\u001b[0;32m      6\u001b[0m plt\u001b[38;5;241m.\u001b[39mxlabel(\u001b[38;5;124m'\u001b[39m\u001b[38;5;124mFood Items\u001b[39m\u001b[38;5;124m'\u001b[39m)\n\u001b[0;32m      7\u001b[0m plt\u001b[38;5;241m.\u001b[39mylabel(\u001b[38;5;124m'\u001b[39m\u001b[38;5;124mSales\u001b[39m\u001b[38;5;124m'\u001b[39m)\n\u001b[1;32m---> 10\u001b[0m sales_by_item \u001b[38;5;241m=\u001b[39m \u001b[43mdf\u001b[49m\u001b[38;5;241;43m.\u001b[39;49m\u001b[43mgroupby\u001b[49m\u001b[43m(\u001b[49m\u001b[38;5;124;43m'\u001b[39;49m\u001b[38;5;124;43mItem_Type\u001b[39;49m\u001b[38;5;124;43m'\u001b[39;49m\u001b[43m)\u001b[49m[\u001b[38;5;124m'\u001b[39m\u001b[38;5;124mSales\u001b[39m\u001b[38;5;124m'\u001b[39m]\u001b[38;5;241m.\u001b[39msum()\n\u001b[0;32m     11\u001b[0m plt\u001b[38;5;241m.\u001b[39mfigure(figsize\u001b[38;5;241m=\u001b[39m(\u001b[38;5;241m12\u001b[39m, \u001b[38;5;241m6\u001b[39m))\n\u001b[0;32m     12\u001b[0m sns\u001b[38;5;241m.\u001b[39mbarplot(x\u001b[38;5;241m=\u001b[39m\u001b[38;5;124m'\u001b[39m\u001b[38;5;124mItem_Type\u001b[39m\u001b[38;5;124m'\u001b[39m, y\u001b[38;5;241m=\u001b[39m\u001b[38;5;124m'\u001b[39m\u001b[38;5;124mSales\u001b[39m\u001b[38;5;124m'\u001b[39m, data\u001b[38;5;241m=\u001b[39msales_by_item)\n",
      "File \u001b[1;32m~\\anaconda3\\lib\\site-packages\\pandas\\core\\frame.py:8402\u001b[0m, in \u001b[0;36mDataFrame.groupby\u001b[1;34m(self, by, axis, level, as_index, sort, group_keys, squeeze, observed, dropna)\u001b[0m\n\u001b[0;32m   8399\u001b[0m     \u001b[38;5;28;01mraise\u001b[39;00m \u001b[38;5;167;01mTypeError\u001b[39;00m(\u001b[38;5;124m\"\u001b[39m\u001b[38;5;124mYou have to supply one of \u001b[39m\u001b[38;5;124m'\u001b[39m\u001b[38;5;124mby\u001b[39m\u001b[38;5;124m'\u001b[39m\u001b[38;5;124m and \u001b[39m\u001b[38;5;124m'\u001b[39m\u001b[38;5;124mlevel\u001b[39m\u001b[38;5;124m'\u001b[39m\u001b[38;5;124m\"\u001b[39m)\n\u001b[0;32m   8400\u001b[0m axis \u001b[38;5;241m=\u001b[39m \u001b[38;5;28mself\u001b[39m\u001b[38;5;241m.\u001b[39m_get_axis_number(axis)\n\u001b[1;32m-> 8402\u001b[0m \u001b[38;5;28;01mreturn\u001b[39;00m \u001b[43mDataFrameGroupBy\u001b[49m\u001b[43m(\u001b[49m\n\u001b[0;32m   8403\u001b[0m \u001b[43m    \u001b[49m\u001b[43mobj\u001b[49m\u001b[38;5;241;43m=\u001b[39;49m\u001b[38;5;28;43mself\u001b[39;49m\u001b[43m,\u001b[49m\n\u001b[0;32m   8404\u001b[0m \u001b[43m    \u001b[49m\u001b[43mkeys\u001b[49m\u001b[38;5;241;43m=\u001b[39;49m\u001b[43mby\u001b[49m\u001b[43m,\u001b[49m\n\u001b[0;32m   8405\u001b[0m \u001b[43m    \u001b[49m\u001b[43maxis\u001b[49m\u001b[38;5;241;43m=\u001b[39;49m\u001b[43maxis\u001b[49m\u001b[43m,\u001b[49m\n\u001b[0;32m   8406\u001b[0m \u001b[43m    \u001b[49m\u001b[43mlevel\u001b[49m\u001b[38;5;241;43m=\u001b[39;49m\u001b[43mlevel\u001b[49m\u001b[43m,\u001b[49m\n\u001b[0;32m   8407\u001b[0m \u001b[43m    \u001b[49m\u001b[43mas_index\u001b[49m\u001b[38;5;241;43m=\u001b[39;49m\u001b[43mas_index\u001b[49m\u001b[43m,\u001b[49m\n\u001b[0;32m   8408\u001b[0m \u001b[43m    \u001b[49m\u001b[43msort\u001b[49m\u001b[38;5;241;43m=\u001b[39;49m\u001b[43msort\u001b[49m\u001b[43m,\u001b[49m\n\u001b[0;32m   8409\u001b[0m \u001b[43m    \u001b[49m\u001b[43mgroup_keys\u001b[49m\u001b[38;5;241;43m=\u001b[39;49m\u001b[43mgroup_keys\u001b[49m\u001b[43m,\u001b[49m\n\u001b[0;32m   8410\u001b[0m \u001b[43m    \u001b[49m\u001b[43msqueeze\u001b[49m\u001b[38;5;241;43m=\u001b[39;49m\u001b[43msqueeze\u001b[49m\u001b[43m,\u001b[49m\n\u001b[0;32m   8411\u001b[0m \u001b[43m    \u001b[49m\u001b[43mobserved\u001b[49m\u001b[38;5;241;43m=\u001b[39;49m\u001b[43mobserved\u001b[49m\u001b[43m,\u001b[49m\n\u001b[0;32m   8412\u001b[0m \u001b[43m    \u001b[49m\u001b[43mdropna\u001b[49m\u001b[38;5;241;43m=\u001b[39;49m\u001b[43mdropna\u001b[49m\u001b[43m,\u001b[49m\n\u001b[0;32m   8413\u001b[0m \u001b[43m\u001b[49m\u001b[43m)\u001b[49m\n",
      "File \u001b[1;32m~\\anaconda3\\lib\\site-packages\\pandas\\core\\groupby\\groupby.py:965\u001b[0m, in \u001b[0;36mGroupBy.__init__\u001b[1;34m(self, obj, keys, axis, level, grouper, exclusions, selection, as_index, sort, group_keys, squeeze, observed, mutated, dropna)\u001b[0m\n\u001b[0;32m    962\u001b[0m \u001b[38;5;28;01mif\u001b[39;00m grouper \u001b[38;5;129;01mis\u001b[39;00m \u001b[38;5;28;01mNone\u001b[39;00m:\n\u001b[0;32m    963\u001b[0m     \u001b[38;5;28;01mfrom\u001b[39;00m \u001b[38;5;21;01mpandas\u001b[39;00m\u001b[38;5;21;01m.\u001b[39;00m\u001b[38;5;21;01mcore\u001b[39;00m\u001b[38;5;21;01m.\u001b[39;00m\u001b[38;5;21;01mgroupby\u001b[39;00m\u001b[38;5;21;01m.\u001b[39;00m\u001b[38;5;21;01mgrouper\u001b[39;00m \u001b[38;5;28;01mimport\u001b[39;00m get_grouper\n\u001b[1;32m--> 965\u001b[0m     grouper, exclusions, obj \u001b[38;5;241m=\u001b[39m \u001b[43mget_grouper\u001b[49m\u001b[43m(\u001b[49m\n\u001b[0;32m    966\u001b[0m \u001b[43m        \u001b[49m\u001b[43mobj\u001b[49m\u001b[43m,\u001b[49m\n\u001b[0;32m    967\u001b[0m \u001b[43m        \u001b[49m\u001b[43mkeys\u001b[49m\u001b[43m,\u001b[49m\n\u001b[0;32m    968\u001b[0m \u001b[43m        \u001b[49m\u001b[43maxis\u001b[49m\u001b[38;5;241;43m=\u001b[39;49m\u001b[43maxis\u001b[49m\u001b[43m,\u001b[49m\n\u001b[0;32m    969\u001b[0m \u001b[43m        \u001b[49m\u001b[43mlevel\u001b[49m\u001b[38;5;241;43m=\u001b[39;49m\u001b[43mlevel\u001b[49m\u001b[43m,\u001b[49m\n\u001b[0;32m    970\u001b[0m \u001b[43m        \u001b[49m\u001b[43msort\u001b[49m\u001b[38;5;241;43m=\u001b[39;49m\u001b[43msort\u001b[49m\u001b[43m,\u001b[49m\n\u001b[0;32m    971\u001b[0m \u001b[43m        \u001b[49m\u001b[43mobserved\u001b[49m\u001b[38;5;241;43m=\u001b[39;49m\u001b[43mobserved\u001b[49m\u001b[43m,\u001b[49m\n\u001b[0;32m    972\u001b[0m \u001b[43m        \u001b[49m\u001b[43mmutated\u001b[49m\u001b[38;5;241;43m=\u001b[39;49m\u001b[38;5;28;43mself\u001b[39;49m\u001b[38;5;241;43m.\u001b[39;49m\u001b[43mmutated\u001b[49m\u001b[43m,\u001b[49m\n\u001b[0;32m    973\u001b[0m \u001b[43m        \u001b[49m\u001b[43mdropna\u001b[49m\u001b[38;5;241;43m=\u001b[39;49m\u001b[38;5;28;43mself\u001b[39;49m\u001b[38;5;241;43m.\u001b[39;49m\u001b[43mdropna\u001b[49m\u001b[43m,\u001b[49m\n\u001b[0;32m    974\u001b[0m \u001b[43m    \u001b[49m\u001b[43m)\u001b[49m\n\u001b[0;32m    976\u001b[0m \u001b[38;5;28mself\u001b[39m\u001b[38;5;241m.\u001b[39mobj \u001b[38;5;241m=\u001b[39m obj\n\u001b[0;32m    977\u001b[0m \u001b[38;5;28mself\u001b[39m\u001b[38;5;241m.\u001b[39maxis \u001b[38;5;241m=\u001b[39m obj\u001b[38;5;241m.\u001b[39m_get_axis_number(axis)\n",
      "File \u001b[1;32m~\\anaconda3\\lib\\site-packages\\pandas\\core\\groupby\\grouper.py:888\u001b[0m, in \u001b[0;36mget_grouper\u001b[1;34m(obj, key, axis, level, sort, observed, mutated, validate, dropna)\u001b[0m\n\u001b[0;32m    886\u001b[0m         in_axis, level, gpr \u001b[38;5;241m=\u001b[39m \u001b[38;5;28;01mFalse\u001b[39;00m, gpr, \u001b[38;5;28;01mNone\u001b[39;00m\n\u001b[0;32m    887\u001b[0m     \u001b[38;5;28;01melse\u001b[39;00m:\n\u001b[1;32m--> 888\u001b[0m         \u001b[38;5;28;01mraise\u001b[39;00m \u001b[38;5;167;01mKeyError\u001b[39;00m(gpr)\n\u001b[0;32m    889\u001b[0m \u001b[38;5;28;01melif\u001b[39;00m \u001b[38;5;28misinstance\u001b[39m(gpr, Grouper) \u001b[38;5;129;01mand\u001b[39;00m gpr\u001b[38;5;241m.\u001b[39mkey \u001b[38;5;129;01mis\u001b[39;00m \u001b[38;5;129;01mnot\u001b[39;00m \u001b[38;5;28;01mNone\u001b[39;00m:\n\u001b[0;32m    890\u001b[0m     \u001b[38;5;66;03m# Add key to exclusions\u001b[39;00m\n\u001b[0;32m    891\u001b[0m     exclusions\u001b[38;5;241m.\u001b[39madd(gpr\u001b[38;5;241m.\u001b[39mkey)\n",
      "\u001b[1;31mKeyError\u001b[0m: 'Item_Type'"
     ]
    },
    {
     "data": {
      "image/png": "[encoded data removed]",
      "text/plain": [
       "<Figure size 640x480 with 1 Axes>"
      ]
     },
     "metadata": {},
     "output_type": "display_data"
    }
   ],
   "source": [
    "#Categorize items into different types to see which categories are \n",
    "#the most popular or generate the most sales.\n",
    "colours='#E3E71E'\n",
    "sns.barplot(x=df['Item Type'],y=df['Sales'])\n",
    "plt.xticks(rotation=90)\n",
    "plt.xlabel('Food Items')\n",
    "plt.ylabel('Sales')\n",
    "\n",
    "\n",
    "sales_by_item = df.groupby('Item_Type')['Sales'].sum()\n",
    "plt.figure(figsize=(12, 6))\n",
    "sns.barplot(x='Item_Type', y='Sales', data=sales_by_item)\n",
    "plt.xticks(rotation=90)\n",
    "plt.title('Sales of Different Food Items')\n",
    "plt.xlabel('Item Type')\n",
    "plt.ylabel('Total Sales')\n",
    "plt.show()"
   ]
  },
  {
   "cell_type": "code",
   "execution_count": 59,
   "id": "286c074f",
   "metadata": {},
   "outputs": [
    {
     "data": {
      "text/plain": [
       "Text(0, 0.5, 'Sales')"
      ]
     },
     "execution_count": 59,
     "metadata": {},
     "output_type": "execute_result"
    },
    {
     "data": {
      "image/png": "[encoded data removed]",
      "text/plain": [
       "<Figure size 640x480 with 1 Axes>"
      ]
     },
     "metadata": {},
     "output_type": "display_data"
    }
   ],
   "source": [
    "colours='#E3E71E'\n",
    "sns.barplot(x=df['Outlet Establishment Year'],y=df['Sales'])\n",
    "#plt.xticks(rotation=90)\n",
    "plt.xlabel('Year')\n",
    "plt.ylabel('Sales')"
   ]
  },
  {
   "cell_type": "code",
   "execution_count": null,
   "id": "259c4150",
   "metadata": {},
   "outputs": [],
   "source": []
  }
 ],
 "metadata": {
  "kernelspec": {
   "display_name": "Python 3 (ipykernel)",
   "language": "python",
   "name": "python3"
  },
  "language_info": {
   "codemirror_mode": {
    "name": "ipython",
    "version": 3
   },
   "file_extension": ".py",
   "mimetype": "text/x-python",
   "name": "python",
   "nbconvert_exporter": "python",
   "pygments_lexer": "ipython3",
   "version": "3.10.9"
  }
 },
 "nbformat": 4,
 "nbformat_minor": 5
}
